{
 "cells": [
  {
   "cell_type": "code",
   "execution_count": null,
   "id": "0590e9d3-e978-43de-b17d-695b93105143",
   "metadata": {},
   "outputs": [],
   "source": [
    "import dapla as dp"
   ]
  },
  {
   "cell_type": "code",
   "execution_count": null,
   "id": "10374bb7-ed85-47b2-87bf-964436f54786",
   "metadata": {},
   "outputs": [],
   "source": [
    "# Show contents of folder recursively\n",
    "dp.show('gs://anaconda-public-data')"
   ]
  },
  {
   "cell_type": "code",
   "execution_count": null,
   "id": "4d987875-af1b-4c0d-9a6e-2ad16bc3b223",
   "metadata": {},
   "outputs": [],
   "source": [
    "# Show file or folder detalis\n",
    "dp.details('gs://anaconda-public-data/iris/iris.csv')"
   ]
  },
  {
   "cell_type": "code",
   "execution_count": null,
   "id": "c3ce598a-031c-4b40-92a0-36cd44cfd0d9",
   "metadata": {},
   "outputs": [],
   "source": [
    "# Read a csv file into a Pandas dataframe\n",
    "dp.read_pandas('gs://anaconda-public-data/iris/iris.csv', file_format=\"csv\")"
   ]
  },
  {
   "cell_type": "code",
   "execution_count": null,
   "id": "b39ea535-f801-445a-b1d7-6dd9013c08da",
   "metadata": {},
   "outputs": [],
   "source": [
    "from dapla import FileClient\n",
    "\n",
    "fs = FileClient.get_gcs_file_system()\n",
    "\n",
    "# Print first line of a file\n",
    "with fs.open('gs://anaconda-public-data/iris/iris.csv') as file:\n",
    "  print(file.readline())"
   ]
  },
  {
   "cell_type": "code",
   "execution_count": null,
   "id": "eaa83451-10e7-4de3-982c-a3922cfe3b12",
   "metadata": {},
   "outputs": [],
   "source": []
  }
 ],
 "metadata": {
  "language_info": {
   "codemirror_mode": {
    "name": "ipython"
   },
   "file_extension": ".py",
   "mimetype": "text/x-python",
   "name": "python",
   "nbconvert_exporter": "python"
  }
 },
 "nbformat": 4,
 "nbformat_minor": 5
}
